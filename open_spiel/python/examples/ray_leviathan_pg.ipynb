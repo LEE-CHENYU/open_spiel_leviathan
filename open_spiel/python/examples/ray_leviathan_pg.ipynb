{
 "cells": [
  {
   "cell_type": "code",
   "execution_count": 10,
   "metadata": {},
   "outputs": [],
   "source": [
    "from absl import app\n",
    "from absl import flags\n",
    "from absl import logging\n",
    "import tensorflow.compat.v1 as tf\n",
    "\n",
    "from open_spiel.python import policy\n",
    "from open_spiel.python import rl_environment\n",
    "from open_spiel.python.algorithms import exploitability\n",
    "from open_spiel.python.algorithms import policy_gradient\n",
    "\n",
    "from open_spiel.python.games.leviathan_game import _NUM_PLAYERS, Action, LevithanState\n",
    "\n",
    "game = \"python_leviathan\"\n",
    "num_players = _NUM_PLAYERS\n",
    "\n",
    "# env_configs = {\"players\": num_players}\n",
    "env_configs = {}\n",
    "env = rl_environment.Environment(game, **env_configs)"
   ]
  },
  {
   "cell_type": "code",
   "execution_count": 11,
   "metadata": {},
   "outputs": [],
   "source": [
    "from ray.tune.registry import register_env\n",
    "from ray.rllib.env.multi_agent_env import MultiAgentEnv\n",
    "from ray.rllib.env.wrappers.open_spiel import OpenSpielEnv as OpenSpielEnvWrapper\n",
    "\n",
    "register_env(\"leviathan\", lambda config: OpenSpielEnvWrapper(env))"
   ]
  },
  {
   "cell_type": "code",
   "execution_count": 12,
   "metadata": {},
   "outputs": [
    {
     "name": "stdout",
     "output_type": "stream",
     "text": [
      "Error: Unknown trainable: leviathan\n"
     ]
    }
   ],
   "source": [
    "from ray.tune.registry import get_trainable_cls\n",
    "\n",
    "try:\n",
    "    # Check if the environment is registered correctly\n",
    "    env_cls = get_trainable_cls(\"leviathan\")\n",
    "    print(\"Environment 'leviathan' is registered correctly.\")\n",
    "except Exception as e:\n",
    "    print(f\"Error: {e}\")\n"
   ]
  },
  {
   "cell_type": "code",
   "execution_count": 13,
   "metadata": {},
   "outputs": [
    {
     "name": "stderr",
     "output_type": "stream",
     "text": [
      "2024-06-29 14:39:38,338\tINFO worker.py:1761 -- Started a local Ray instance. View the dashboard at \u001b[1m\u001b[32mhttp://127.0.0.1:8265 \u001b[39m\u001b[22m\n"
     ]
    }
   ],
   "source": [
    "import ray\n",
    "from ray.rllib.algorithms.ppo import PPOConfig\n",
    "\n",
    "ray.shutdown()\n",
    "ray.init(ignore_reinit_error=True)\n",
    "\n",
    "config = PPOConfig()\n",
    "config['env'] = \"leviathan\"\n",
    "config = config.training(gamma=0.9, lr=0.01, kl_coeff=0.3, train_batch_size=128)\n",
    "config = config.resources(num_gpus=0)\n",
    "config = config.env_runners(num_env_runners=1)\n",
    "# config[\"log_level\"] = \"WARN\"\n",
    "\n",
    "algo = config.build(env=\"leviathan\")\n",
    "algo.train()"
   ]
  }
 ],
 "metadata": {
  "kernelspec": {
   "display_name": "leviathan",
   "language": "python",
   "name": "python3"
  },
  "language_info": {
   "codemirror_mode": {
    "name": "ipython",
    "version": 3
   },
   "file_extension": ".py",
   "mimetype": "text/x-python",
   "name": "python",
   "nbconvert_exporter": "python",
   "pygments_lexer": "ipython3",
   "version": "3.11.9"
  }
 },
 "nbformat": 4,
 "nbformat_minor": 2
}
